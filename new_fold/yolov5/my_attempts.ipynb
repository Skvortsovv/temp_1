{
 "cells": [
  {
   "cell_type": "code",
   "execution_count": 17,
   "metadata": {
    "scrolled": false
   },
   "outputs": [
    {
     "name": "stdout",
     "output_type": "stream",
     "text": [
      "^C\n"
     ]
    }
   ],
   "source": [
    "!python train.py --batch 4 --epochs 20 --img 416 --data ../yolov5/custom_data/fst_try_data.yaml --cfg C:/Users/Gleb/AppData/Local/Programs/Python/Python38/Lib/site-packages/yolov5/custom_data/yolov5s_custom.yaml"
   ]
  },
  {
   "cell_type": "markdown",
   "metadata": {},
   "source": [
    "!pythor train.py --batch 4 --epochs 30 --img 416 --data ../custom_data/fst_try_data --cfg ../models/yolov5l --source "
   ]
  },
  {
   "cell_type": "code",
   "execution_count": null,
   "metadata": {},
   "outputs": [],
   "source": [
    "C:/Users/Gleb/AppData/Local/Programs/Python/Python38/Lib/site-packages/yolov5/custom_data"
   ]
  },
  {
   "cell_type": "code",
   "execution_count": 16,
   "metadata": {},
   "outputs": [
    {
     "name": "stdout",
     "output_type": "stream",
     "text": [
      "C:/Users/Gleb/AppData/Local/Programs/Python/Python38/Lib/site-packages/yolov5/custom_data\n"
     ]
    }
   ],
   "source": [
    "def slash_changer(s):\n",
    "    s = s.replace('\\\\', '/')\n",
    "    return s\n",
    "\n",
    "print(slash_changer(r'C:\\Users\\Gleb\\AppData\\Local\\Programs\\Python\\Python38\\Lib\\site-packages\\yolov5\\custom_data'))"
   ]
  },
  {
   "cell_type": "code",
   "execution_count": null,
   "metadata": {},
   "outputs": [],
   "source": []
  }
 ],
 "metadata": {
  "kernelspec": {
   "display_name": "Python 3",
   "language": "python",
   "name": "python3"
  },
  "language_info": {
   "codemirror_mode": {
    "name": "ipython",
    "version": 3
   },
   "file_extension": ".py",
   "mimetype": "text/x-python",
   "name": "python",
   "nbconvert_exporter": "python",
   "pygments_lexer": "ipython3",
   "version": "3.8.6"
  }
 },
 "nbformat": 4,
 "nbformat_minor": 4
}
